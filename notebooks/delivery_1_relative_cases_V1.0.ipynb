{
 "cells": [
  {
   "cell_type": "code",
   "execution_count": 1,
   "id": "b86e6811",
   "metadata": {},
   "outputs": [],
   "source": [
    "import pandas as pd\n",
    "import numpy as np\n",
    "\n",
    "import matplotlib as mpl\n",
    "import matplotlib.pyplot as plt\n",
    "\n",
    "import seaborn as sns"
   ]
  },
  {
   "cell_type": "code",
   "execution_count": 2,
   "id": "dc1acb47",
   "metadata": {},
   "outputs": [],
   "source": [
    "mpl.rcParams['figure.figsize'] = (16, 9)\n",
    "pd.set_option('display.max_rows', 500)\n",
    "sns.set(style=\"darkgrid\")"
   ]
  },
  {
   "cell_type": "markdown",
   "id": "a7ad1ad2",
   "metadata": {},
   "source": [
    "# Data acquisition\n",
    "\n",
    "saved data from the lecture"
   ]
  },
  {
   "cell_type": "code",
   "execution_count": 3,
   "id": "107256f1",
   "metadata": {},
   "outputs": [
    {
     "data": {
      "text/html": [
       "<div>\n",
       "<style scoped>\n",
       "    .dataframe tbody tr th:only-of-type {\n",
       "        vertical-align: middle;\n",
       "    }\n",
       "\n",
       "    .dataframe tbody tr th {\n",
       "        vertical-align: top;\n",
       "    }\n",
       "\n",
       "    .dataframe thead th {\n",
       "        text-align: right;\n",
       "    }\n",
       "</style>\n",
       "<table border=\"1\" class=\"dataframe\">\n",
       "  <thead>\n",
       "    <tr style=\"text-align: right;\">\n",
       "      <th></th>\n",
       "      <th>date</th>\n",
       "      <th>US</th>\n",
       "      <th>Germany</th>\n",
       "      <th>Italy</th>\n",
       "      <th>Spain</th>\n",
       "      <th>Korea, South</th>\n",
       "    </tr>\n",
       "  </thead>\n",
       "  <tbody>\n",
       "    <tr>\n",
       "      <th>0</th>\n",
       "      <td>2020-01-22</td>\n",
       "      <td>1</td>\n",
       "      <td>0</td>\n",
       "      <td>0</td>\n",
       "      <td>0</td>\n",
       "      <td>1</td>\n",
       "    </tr>\n",
       "    <tr>\n",
       "      <th>1</th>\n",
       "      <td>2020-01-23</td>\n",
       "      <td>1</td>\n",
       "      <td>0</td>\n",
       "      <td>0</td>\n",
       "      <td>0</td>\n",
       "      <td>1</td>\n",
       "    </tr>\n",
       "    <tr>\n",
       "      <th>2</th>\n",
       "      <td>2020-01-24</td>\n",
       "      <td>2</td>\n",
       "      <td>0</td>\n",
       "      <td>0</td>\n",
       "      <td>0</td>\n",
       "      <td>2</td>\n",
       "    </tr>\n",
       "    <tr>\n",
       "      <th>3</th>\n",
       "      <td>2020-01-25</td>\n",
       "      <td>2</td>\n",
       "      <td>0</td>\n",
       "      <td>0</td>\n",
       "      <td>0</td>\n",
       "      <td>2</td>\n",
       "    </tr>\n",
       "    <tr>\n",
       "      <th>4</th>\n",
       "      <td>2020-01-26</td>\n",
       "      <td>5</td>\n",
       "      <td>0</td>\n",
       "      <td>0</td>\n",
       "      <td>0</td>\n",
       "      <td>3</td>\n",
       "    </tr>\n",
       "    <tr>\n",
       "      <th>...</th>\n",
       "      <td>...</td>\n",
       "      <td>...</td>\n",
       "      <td>...</td>\n",
       "      <td>...</td>\n",
       "      <td>...</td>\n",
       "      <td>...</td>\n",
       "    </tr>\n",
       "    <tr>\n",
       "      <th>876</th>\n",
       "      <td>2022-06-16</td>\n",
       "      <td>86058228</td>\n",
       "      <td>27124689</td>\n",
       "      <td>17773764</td>\n",
       "      <td>12515127</td>\n",
       "      <td>18263643</td>\n",
       "    </tr>\n",
       "    <tr>\n",
       "      <th>877</th>\n",
       "      <td>2022-06-17</td>\n",
       "      <td>86216418</td>\n",
       "      <td>27204953</td>\n",
       "      <td>17809934</td>\n",
       "      <td>12563399</td>\n",
       "      <td>18270481</td>\n",
       "    </tr>\n",
       "    <tr>\n",
       "      <th>878</th>\n",
       "      <td>2022-06-18</td>\n",
       "      <td>86230982</td>\n",
       "      <td>27204955</td>\n",
       "      <td>17844905</td>\n",
       "      <td>12563399</td>\n",
       "      <td>18276552</td>\n",
       "    </tr>\n",
       "    <tr>\n",
       "      <th>879</th>\n",
       "      <td>2022-06-19</td>\n",
       "      <td>86246101</td>\n",
       "      <td>27211896</td>\n",
       "      <td>17879160</td>\n",
       "      <td>12563399</td>\n",
       "      <td>18280090</td>\n",
       "    </tr>\n",
       "    <tr>\n",
       "      <th>880</th>\n",
       "      <td>2022-06-20</td>\n",
       "      <td>86297081</td>\n",
       "      <td>27334993</td>\n",
       "      <td>17896065</td>\n",
       "      <td>12563399</td>\n",
       "      <td>18289373</td>\n",
       "    </tr>\n",
       "  </tbody>\n",
       "</table>\n",
       "<p>881 rows × 6 columns</p>\n",
       "</div>"
      ],
      "text/plain": [
       "           date        US   Germany     Italy     Spain  Korea, South\n",
       "0    2020-01-22         1         0         0         0             1\n",
       "1    2020-01-23         1         0         0         0             1\n",
       "2    2020-01-24         2         0         0         0             2\n",
       "3    2020-01-25         2         0         0         0             2\n",
       "4    2020-01-26         5         0         0         0             3\n",
       "..          ...       ...       ...       ...       ...           ...\n",
       "876  2022-06-16  86058228  27124689  17773764  12515127      18263643\n",
       "877  2022-06-17  86216418  27204953  17809934  12563399      18270481\n",
       "878  2022-06-18  86230982  27204955  17844905  12563399      18276552\n",
       "879  2022-06-19  86246101  27211896  17879160  12563399      18280090\n",
       "880  2022-06-20  86297081  27334993  17896065  12563399      18289373\n",
       "\n",
       "[881 rows x 6 columns]"
      ]
     },
     "execution_count": 3,
     "metadata": {},
     "output_type": "execute_result"
    }
   ],
   "source": [
    "df_countries=pd.read_csv('../data/processed/COVID_small_flat_table.csv',sep=';')\n",
    "df_countries                                                       # read data from .csv file"
   ]
  },
  {
   "cell_type": "code",
   "execution_count": 4,
   "id": "1c98fe51",
   "metadata": {
    "scrolled": true
   },
   "outputs": [
    {
     "data": {
      "text/html": [
       "<div>\n",
       "<style scoped>\n",
       "    .dataframe tbody tr th:only-of-type {\n",
       "        vertical-align: middle;\n",
       "    }\n",
       "\n",
       "    .dataframe tbody tr th {\n",
       "        vertical-align: top;\n",
       "    }\n",
       "\n",
       "    .dataframe thead th {\n",
       "        text-align: right;\n",
       "    }\n",
       "</style>\n",
       "<table border=\"1\" class=\"dataframe\">\n",
       "  <thead>\n",
       "    <tr style=\"text-align: right;\">\n",
       "      <th></th>\n",
       "      <th>date</th>\n",
       "      <th>Germany</th>\n",
       "      <th>Italy</th>\n",
       "      <th>Spain</th>\n",
       "    </tr>\n",
       "  </thead>\n",
       "  <tbody>\n",
       "    <tr>\n",
       "      <th>876</th>\n",
       "      <td>2022-06-16</td>\n",
       "      <td>32.169717</td>\n",
       "      <td>29.482094</td>\n",
       "      <td>26.747089</td>\n",
       "    </tr>\n",
       "    <tr>\n",
       "      <th>877</th>\n",
       "      <td>2022-06-17</td>\n",
       "      <td>32.264910</td>\n",
       "      <td>29.542091</td>\n",
       "      <td>26.850255</td>\n",
       "    </tr>\n",
       "    <tr>\n",
       "      <th>878</th>\n",
       "      <td>2022-06-18</td>\n",
       "      <td>32.264912</td>\n",
       "      <td>29.600099</td>\n",
       "      <td>26.850255</td>\n",
       "    </tr>\n",
       "    <tr>\n",
       "      <th>879</th>\n",
       "      <td>2022-06-19</td>\n",
       "      <td>32.273144</td>\n",
       "      <td>29.656919</td>\n",
       "      <td>26.850255</td>\n",
       "    </tr>\n",
       "    <tr>\n",
       "      <th>880</th>\n",
       "      <td>2022-06-20</td>\n",
       "      <td>32.419137</td>\n",
       "      <td>29.684960</td>\n",
       "      <td>26.850255</td>\n",
       "    </tr>\n",
       "  </tbody>\n",
       "</table>\n",
       "</div>"
      ],
      "text/plain": [
       "           date    Germany      Italy      Spain\n",
       "876  2022-06-16  32.169717  29.482094  26.747089\n",
       "877  2022-06-17  32.264910  29.542091  26.850255\n",
       "878  2022-06-18  32.264912  29.600099  26.850255\n",
       "879  2022-06-19  32.273144  29.656919  26.850255\n",
       "880  2022-06-20  32.419137  29.684960  26.850255"
      ]
     },
     "execution_count": 4,
     "metadata": {},
     "output_type": "execute_result"
    }
   ],
   "source": [
    "df_countries['Germany']=(df_countries['Germany']/84317461)*100   \n",
    "df_countries['Italy']=(df_countries['Italy']/60286640)*100    # source for the population numbers https://www.worldometers.info/\n",
    "df_countries['Spain']=(df_countries['Spain']/46790613)*100    # date of access: 27.06.2022\n",
    "del df_countries['US']                                        # calculate relative values\n",
    "del df_countries['Korea, South']\n",
    "df_countries.tail()"
   ]
  },
  {
   "cell_type": "code",
   "execution_count": 5,
   "id": "eec154c0",
   "metadata": {},
   "outputs": [
    {
     "data": {
      "text/plain": [
       "Text(0.5, 0, 'Date')"
      ]
     },
     "execution_count": 5,
     "metadata": {},
     "output_type": "execute_result"
    },
    {
     "data": {
      "text/plain": [
       "<Figure size 1152x648 with 0 Axes>"
      ]
     },
     "metadata": {},
     "output_type": "display_data"
    },
    {
     "data": {
      "image/png": "[encoded data removed]",
      "text/plain": [
       "<Figure size 1152x648 with 1 Axes>"
      ]
     },
     "metadata": {},
     "output_type": "display_data"
    }
   ],
   "source": [
    "plt.figure();                                                           # plot\n",
    "ax=df_countries.set_index('date').plot()\n",
    "plt.ylim(0, 40)\n",
    "plt.ylabel('Confirmed cases relative to population')\n",
    "plt.xlabel('Date')"
   ]
  }
 ],
 "metadata": {
  "kernelspec": {
   "display_name": "Python 3 (ipykernel)",
   "language": "python",
   "name": "python3"
  },
  "language_info": {
   "codemirror_mode": {
    "name": "ipython",
    "version": 3
   },
   "file_extension": ".py",
   "mimetype": "text/x-python",
   "name": "python",
   "nbconvert_exporter": "python",
   "pygments_lexer": "ipython3",
   "version": "3.9.12"
  }
 },
 "nbformat": 4,
 "nbformat_minor": 5
}
