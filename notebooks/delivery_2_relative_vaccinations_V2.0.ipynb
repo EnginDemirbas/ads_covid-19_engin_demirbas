{
 "cells": [
  {
   "cell_type": "code",
   "execution_count": 1,
   "id": "b86e6811",
   "metadata": {},
   "outputs": [],
   "source": [
    "import pandas as pd\n",
    "import numpy as np\n",
    "\n",
    "import matplotlib as mpl\n",
    "import matplotlib.pyplot as plt\n",
    "\n",
    "import seaborn as sns\n",
    "\n",
    "pd.set_option('display.max_rows', 500)\n",
    "mpl.rcParams['figure.figsize'] = (16, 9)\n",
    "sns.set(style=\"darkgrid\")"
   ]
  },
  {
   "cell_type": "markdown",
   "id": "33f36eda",
   "metadata": {},
   "source": [
    "# Data acquisition\n",
    "\n",
    "git clone https://github.com/owid/covid-19-data/tree/master/public/data/"
   ]
  },
  {
   "cell_type": "markdown",
   "id": "41f35e1e",
   "metadata": {},
   "source": [
    "# Germany"
   ]
  },
  {
   "cell_type": "code",
   "execution_count": 2,
   "id": "107256f1",
   "metadata": {},
   "outputs": [
    {
     "data": {
      "text/html": [
       "<div>\n",
       "<style scoped>\n",
       "    .dataframe tbody tr th:only-of-type {\n",
       "        vertical-align: middle;\n",
       "    }\n",
       "\n",
       "    .dataframe tbody tr th {\n",
       "        vertical-align: top;\n",
       "    }\n",
       "\n",
       "    .dataframe thead th {\n",
       "        text-align: right;\n",
       "    }\n",
       "</style>\n",
       "<table border=\"1\" class=\"dataframe\">\n",
       "  <thead>\n",
       "    <tr style=\"text-align: right;\">\n",
       "      <th></th>\n",
       "      <th>location</th>\n",
       "      <th>date</th>\n",
       "      <th>vaccine</th>\n",
       "      <th>source_url</th>\n",
       "      <th>total_vaccinations</th>\n",
       "      <th>people_vaccinated</th>\n",
       "      <th>people_fully_vaccinated</th>\n",
       "      <th>total_boosters</th>\n",
       "    </tr>\n",
       "  </thead>\n",
       "  <tbody>\n",
       "    <tr>\n",
       "      <th>0</th>\n",
       "      <td>Germany</td>\n",
       "      <td>2020-12-27</td>\n",
       "      <td>Moderna, Oxford/AstraZeneca, Pfizer/BioNTech</td>\n",
       "      <td>https://impfdashboard.de/</td>\n",
       "      <td>24421</td>\n",
       "      <td>24421</td>\n",
       "      <td>0</td>\n",
       "      <td>0</td>\n",
       "    </tr>\n",
       "    <tr>\n",
       "      <th>1</th>\n",
       "      <td>Germany</td>\n",
       "      <td>2020-12-28</td>\n",
       "      <td>Moderna, Oxford/AstraZeneca, Pfizer/BioNTech</td>\n",
       "      <td>https://impfdashboard.de/</td>\n",
       "      <td>42428</td>\n",
       "      <td>42428</td>\n",
       "      <td>0</td>\n",
       "      <td>0</td>\n",
       "    </tr>\n",
       "    <tr>\n",
       "      <th>2</th>\n",
       "      <td>Germany</td>\n",
       "      <td>2020-12-29</td>\n",
       "      <td>Moderna, Oxford/AstraZeneca, Pfizer/BioNTech</td>\n",
       "      <td>https://impfdashboard.de/</td>\n",
       "      <td>92483</td>\n",
       "      <td>92483</td>\n",
       "      <td>0</td>\n",
       "      <td>0</td>\n",
       "    </tr>\n",
       "    <tr>\n",
       "      <th>3</th>\n",
       "      <td>Germany</td>\n",
       "      <td>2020-12-30</td>\n",
       "      <td>Moderna, Oxford/AstraZeneca, Pfizer/BioNTech</td>\n",
       "      <td>https://impfdashboard.de/</td>\n",
       "      <td>156549</td>\n",
       "      <td>156549</td>\n",
       "      <td>0</td>\n",
       "      <td>0</td>\n",
       "    </tr>\n",
       "    <tr>\n",
       "      <th>4</th>\n",
       "      <td>Germany</td>\n",
       "      <td>2020-12-31</td>\n",
       "      <td>Moderna, Oxford/AstraZeneca, Pfizer/BioNTech</td>\n",
       "      <td>https://impfdashboard.de/</td>\n",
       "      <td>206488</td>\n",
       "      <td>206488</td>\n",
       "      <td>0</td>\n",
       "      <td>0</td>\n",
       "    </tr>\n",
       "  </tbody>\n",
       "</table>\n",
       "</div>"
      ],
      "text/plain": [
       "  location        date                                       vaccine  \\\n",
       "0  Germany  2020-12-27  Moderna, Oxford/AstraZeneca, Pfizer/BioNTech   \n",
       "1  Germany  2020-12-28  Moderna, Oxford/AstraZeneca, Pfizer/BioNTech   \n",
       "2  Germany  2020-12-29  Moderna, Oxford/AstraZeneca, Pfizer/BioNTech   \n",
       "3  Germany  2020-12-30  Moderna, Oxford/AstraZeneca, Pfizer/BioNTech   \n",
       "4  Germany  2020-12-31  Moderna, Oxford/AstraZeneca, Pfizer/BioNTech   \n",
       "\n",
       "                  source_url  total_vaccinations  people_vaccinated  \\\n",
       "0  https://impfdashboard.de/               24421              24421   \n",
       "1  https://impfdashboard.de/               42428              42428   \n",
       "2  https://impfdashboard.de/               92483              92483   \n",
       "3  https://impfdashboard.de/              156549             156549   \n",
       "4  https://impfdashboard.de/              206488             206488   \n",
       "\n",
       "   people_fully_vaccinated  total_boosters  \n",
       "0                        0               0  \n",
       "1                        0               0  \n",
       "2                        0               0  \n",
       "3                        0               0  \n",
       "4                        0               0  "
      ]
     },
     "execution_count": 2,
     "metadata": {},
     "output_type": "execute_result"
    }
   ],
   "source": [
    "df_ger=pd.read_csv('../data/raw/covid-19-data/public/data/vaccinations/country_data/Germany.csv',sep=',')\n",
    "df_ger.head()                                           # read the data from cloned repository"
   ]
  },
  {
   "cell_type": "code",
   "execution_count": 3,
   "id": "06d37f0e",
   "metadata": {},
   "outputs": [
    {
     "data": {
      "text/html": [
       "<div>\n",
       "<style scoped>\n",
       "    .dataframe tbody tr th:only-of-type {\n",
       "        vertical-align: middle;\n",
       "    }\n",
       "\n",
       "    .dataframe tbody tr th {\n",
       "        vertical-align: top;\n",
       "    }\n",
       "\n",
       "    .dataframe thead th {\n",
       "        text-align: right;\n",
       "    }\n",
       "</style>\n",
       "<table border=\"1\" class=\"dataframe\">\n",
       "  <thead>\n",
       "    <tr style=\"text-align: right;\">\n",
       "      <th></th>\n",
       "      <th>date</th>\n",
       "      <th>people_vaccinated</th>\n",
       "      <th>people_fully_vaccinated</th>\n",
       "    </tr>\n",
       "  </thead>\n",
       "  <tbody>\n",
       "    <tr>\n",
       "      <th>0</th>\n",
       "      <td>2020-12-27</td>\n",
       "      <td>24421</td>\n",
       "      <td>0</td>\n",
       "    </tr>\n",
       "    <tr>\n",
       "      <th>1</th>\n",
       "      <td>2020-12-28</td>\n",
       "      <td>42428</td>\n",
       "      <td>0</td>\n",
       "    </tr>\n",
       "    <tr>\n",
       "      <th>2</th>\n",
       "      <td>2020-12-29</td>\n",
       "      <td>92483</td>\n",
       "      <td>0</td>\n",
       "    </tr>\n",
       "    <tr>\n",
       "      <th>3</th>\n",
       "      <td>2020-12-30</td>\n",
       "      <td>156549</td>\n",
       "      <td>0</td>\n",
       "    </tr>\n",
       "    <tr>\n",
       "      <th>4</th>\n",
       "      <td>2020-12-31</td>\n",
       "      <td>206488</td>\n",
       "      <td>0</td>\n",
       "    </tr>\n",
       "  </tbody>\n",
       "</table>\n",
       "</div>"
      ],
      "text/plain": [
       "         date  people_vaccinated  people_fully_vaccinated\n",
       "0  2020-12-27              24421                        0\n",
       "1  2020-12-28              42428                        0\n",
       "2  2020-12-29              92483                        0\n",
       "3  2020-12-30             156549                        0\n",
       "4  2020-12-31             206488                        0"
      ]
     },
     "execution_count": 3,
     "metadata": {},
     "output_type": "execute_result"
    }
   ],
   "source": [
    "to_delete=['location','total_boosters','total_vaccinations','vaccine','source_url']\n",
    "for each in to_delete:                                                             # deleting irrelevant columns\n",
    "    del df_ger[each]\n",
    "df_ger.head()"
   ]
  },
  {
   "cell_type": "code",
   "execution_count": 4,
   "id": "823c9ee9",
   "metadata": {},
   "outputs": [
    {
     "data": {
      "text/html": [
       "<div>\n",
       "<style scoped>\n",
       "    .dataframe tbody tr th:only-of-type {\n",
       "        vertical-align: middle;\n",
       "    }\n",
       "\n",
       "    .dataframe tbody tr th {\n",
       "        vertical-align: top;\n",
       "    }\n",
       "\n",
       "    .dataframe thead th {\n",
       "        text-align: right;\n",
       "    }\n",
       "</style>\n",
       "<table border=\"1\" class=\"dataframe\">\n",
       "  <thead>\n",
       "    <tr style=\"text-align: right;\">\n",
       "      <th></th>\n",
       "      <th>date</th>\n",
       "      <th>ger_partial</th>\n",
       "      <th>ger_full</th>\n",
       "    </tr>\n",
       "  </thead>\n",
       "  <tbody>\n",
       "    <tr>\n",
       "      <th>0</th>\n",
       "      <td>2020-12-27</td>\n",
       "      <td>24421</td>\n",
       "      <td>0</td>\n",
       "    </tr>\n",
       "    <tr>\n",
       "      <th>1</th>\n",
       "      <td>2020-12-28</td>\n",
       "      <td>42428</td>\n",
       "      <td>0</td>\n",
       "    </tr>\n",
       "    <tr>\n",
       "      <th>2</th>\n",
       "      <td>2020-12-29</td>\n",
       "      <td>92483</td>\n",
       "      <td>0</td>\n",
       "    </tr>\n",
       "    <tr>\n",
       "      <th>3</th>\n",
       "      <td>2020-12-30</td>\n",
       "      <td>156549</td>\n",
       "      <td>0</td>\n",
       "    </tr>\n",
       "    <tr>\n",
       "      <th>4</th>\n",
       "      <td>2020-12-31</td>\n",
       "      <td>206488</td>\n",
       "      <td>0</td>\n",
       "    </tr>\n",
       "  </tbody>\n",
       "</table>\n",
       "</div>"
      ],
      "text/plain": [
       "         date  ger_partial  ger_full\n",
       "0  2020-12-27        24421         0\n",
       "1  2020-12-28        42428         0\n",
       "2  2020-12-29        92483         0\n",
       "3  2020-12-30       156549         0\n",
       "4  2020-12-31       206488         0"
      ]
     },
     "execution_count": 4,
     "metadata": {},
     "output_type": "execute_result"
    }
   ],
   "source": [
    "df_ger=df_ger.rename(columns={'people_vaccinated':'ger_partial',                   # renaming columns\n",
    "                              'people_fully_vaccinated':'ger_full',})             \n",
    "df_ger.head()    "
   ]
  },
  {
   "cell_type": "code",
   "execution_count": 5,
   "id": "2581e9d7",
   "metadata": {},
   "outputs": [
    {
     "data": {
      "text/plain": [
       "547"
      ]
     },
     "execution_count": 5,
     "metadata": {},
     "output_type": "execute_result"
    }
   ],
   "source": [
    "len(df_ger)                                                                       # number of columns, helpful to keep in mind\n",
    "                                                                                  # when merging"
   ]
  },
  {
   "cell_type": "code",
   "execution_count": 6,
   "id": "7afb0b5f",
   "metadata": {},
   "outputs": [
    {
     "data": {
      "text/plain": [
       "'2020-12-27'"
      ]
     },
     "execution_count": 6,
     "metadata": {},
     "output_type": "execute_result"
    }
   ],
   "source": [
    "df_ger.date[0]                                                                    # starting date, helpful to keep in mind\n",
    "                                                                                  # when merging"
   ]
  },
  {
   "cell_type": "markdown",
   "id": "3274856c",
   "metadata": {},
   "source": [
    "# Denmark"
   ]
  },
  {
   "cell_type": "code",
   "execution_count": 7,
   "id": "e7cbb8e2",
   "metadata": {
    "scrolled": false
   },
   "outputs": [
    {
     "data": {
      "text/html": [
       "<div>\n",
       "<style scoped>\n",
       "    .dataframe tbody tr th:only-of-type {\n",
       "        vertical-align: middle;\n",
       "    }\n",
       "\n",
       "    .dataframe tbody tr th {\n",
       "        vertical-align: top;\n",
       "    }\n",
       "\n",
       "    .dataframe thead th {\n",
       "        text-align: right;\n",
       "    }\n",
       "</style>\n",
       "<table border=\"1\" class=\"dataframe\">\n",
       "  <thead>\n",
       "    <tr style=\"text-align: right;\">\n",
       "      <th></th>\n",
       "      <th>location</th>\n",
       "      <th>date</th>\n",
       "      <th>vaccine</th>\n",
       "      <th>source_url</th>\n",
       "      <th>total_vaccinations</th>\n",
       "      <th>people_vaccinated</th>\n",
       "      <th>people_fully_vaccinated</th>\n",
       "      <th>total_boosters</th>\n",
       "    </tr>\n",
       "  </thead>\n",
       "  <tbody>\n",
       "    <tr>\n",
       "      <th>0</th>\n",
       "      <td>Denmark</td>\n",
       "      <td>2020-12-08</td>\n",
       "      <td>Pfizer/BioNTech</td>\n",
       "      <td>https://covid19.ssi.dk/overvagningsdata/downlo...</td>\n",
       "      <td>1</td>\n",
       "      <td>1</td>\n",
       "      <td>0</td>\n",
       "      <td>0</td>\n",
       "    </tr>\n",
       "    <tr>\n",
       "      <th>1</th>\n",
       "      <td>Denmark</td>\n",
       "      <td>2020-12-11</td>\n",
       "      <td>Pfizer/BioNTech</td>\n",
       "      <td>https://covid19.ssi.dk/overvagningsdata/downlo...</td>\n",
       "      <td>2</td>\n",
       "      <td>2</td>\n",
       "      <td>0</td>\n",
       "      <td>0</td>\n",
       "    </tr>\n",
       "    <tr>\n",
       "      <th>2</th>\n",
       "      <td>Denmark</td>\n",
       "      <td>2020-12-16</td>\n",
       "      <td>Pfizer/BioNTech</td>\n",
       "      <td>https://covid19.ssi.dk/overvagningsdata/downlo...</td>\n",
       "      <td>3</td>\n",
       "      <td>3</td>\n",
       "      <td>0</td>\n",
       "      <td>0</td>\n",
       "    </tr>\n",
       "    <tr>\n",
       "      <th>3</th>\n",
       "      <td>Denmark</td>\n",
       "      <td>2020-12-17</td>\n",
       "      <td>Pfizer/BioNTech</td>\n",
       "      <td>https://covid19.ssi.dk/overvagningsdata/downlo...</td>\n",
       "      <td>4</td>\n",
       "      <td>4</td>\n",
       "      <td>0</td>\n",
       "      <td>0</td>\n",
       "    </tr>\n",
       "    <tr>\n",
       "      <th>4</th>\n",
       "      <td>Denmark</td>\n",
       "      <td>2020-12-18</td>\n",
       "      <td>Pfizer/BioNTech</td>\n",
       "      <td>https://covid19.ssi.dk/overvagningsdata/downlo...</td>\n",
       "      <td>6</td>\n",
       "      <td>6</td>\n",
       "      <td>0</td>\n",
       "      <td>0</td>\n",
       "    </tr>\n",
       "  </tbody>\n",
       "</table>\n",
       "</div>"
      ],
      "text/plain": [
       "  location        date          vaccine  \\\n",
       "0  Denmark  2020-12-08  Pfizer/BioNTech   \n",
       "1  Denmark  2020-12-11  Pfizer/BioNTech   \n",
       "2  Denmark  2020-12-16  Pfizer/BioNTech   \n",
       "3  Denmark  2020-12-17  Pfizer/BioNTech   \n",
       "4  Denmark  2020-12-18  Pfizer/BioNTech   \n",
       "\n",
       "                                          source_url  total_vaccinations  \\\n",
       "0  https://covid19.ssi.dk/overvagningsdata/downlo...                   1   \n",
       "1  https://covid19.ssi.dk/overvagningsdata/downlo...                   2   \n",
       "2  https://covid19.ssi.dk/overvagningsdata/downlo...                   3   \n",
       "3  https://covid19.ssi.dk/overvagningsdata/downlo...                   4   \n",
       "4  https://covid19.ssi.dk/overvagningsdata/downlo...                   6   \n",
       "\n",
       "   people_vaccinated  people_fully_vaccinated  total_boosters  \n",
       "0                  1                        0               0  \n",
       "1                  2                        0               0  \n",
       "2                  3                        0               0  \n",
       "3                  4                        0               0  \n",
       "4                  6                        0               0  "
      ]
     },
     "execution_count": 7,
     "metadata": {},
     "output_type": "execute_result"
    }
   ],
   "source": [
    "df_den=pd.read_csv('../data/raw/covid-19-data/public/data/vaccinations/country_data/Denmark.csv',sep=',')\n",
    "df_den.head()"
   ]
  },
  {
   "cell_type": "code",
   "execution_count": 8,
   "id": "2202193c",
   "metadata": {},
   "outputs": [],
   "source": [
    "for each in to_delete:\n",
    "    del df_den[each]"
   ]
  },
  {
   "cell_type": "code",
   "execution_count": 9,
   "id": "dbc918c1",
   "metadata": {
    "scrolled": true
   },
   "outputs": [
    {
     "data": {
      "text/html": [
       "<div>\n",
       "<style scoped>\n",
       "    .dataframe tbody tr th:only-of-type {\n",
       "        vertical-align: middle;\n",
       "    }\n",
       "\n",
       "    .dataframe tbody tr th {\n",
       "        vertical-align: top;\n",
       "    }\n",
       "\n",
       "    .dataframe thead th {\n",
       "        text-align: right;\n",
       "    }\n",
       "</style>\n",
       "<table border=\"1\" class=\"dataframe\">\n",
       "  <thead>\n",
       "    <tr style=\"text-align: right;\">\n",
       "      <th></th>\n",
       "      <th>date</th>\n",
       "      <th>people_vaccinated</th>\n",
       "      <th>people_fully_vaccinated</th>\n",
       "    </tr>\n",
       "  </thead>\n",
       "  <tbody>\n",
       "    <tr>\n",
       "      <th>0</th>\n",
       "      <td>2020-12-08</td>\n",
       "      <td>1</td>\n",
       "      <td>0</td>\n",
       "    </tr>\n",
       "    <tr>\n",
       "      <th>1</th>\n",
       "      <td>2020-12-11</td>\n",
       "      <td>2</td>\n",
       "      <td>0</td>\n",
       "    </tr>\n",
       "    <tr>\n",
       "      <th>2</th>\n",
       "      <td>2020-12-16</td>\n",
       "      <td>3</td>\n",
       "      <td>0</td>\n",
       "    </tr>\n",
       "    <tr>\n",
       "      <th>3</th>\n",
       "      <td>2020-12-17</td>\n",
       "      <td>4</td>\n",
       "      <td>0</td>\n",
       "    </tr>\n",
       "    <tr>\n",
       "      <th>4</th>\n",
       "      <td>2020-12-18</td>\n",
       "      <td>6</td>\n",
       "      <td>0</td>\n",
       "    </tr>\n",
       "  </tbody>\n",
       "</table>\n",
       "</div>"
      ],
      "text/plain": [
       "         date  people_vaccinated  people_fully_vaccinated\n",
       "0  2020-12-08                  1                        0\n",
       "1  2020-12-11                  2                        0\n",
       "2  2020-12-16                  3                        0\n",
       "3  2020-12-17                  4                        0\n",
       "4  2020-12-18                  6                        0"
      ]
     },
     "execution_count": 9,
     "metadata": {},
     "output_type": "execute_result"
    }
   ],
   "source": [
    "df_den.head()"
   ]
  },
  {
   "cell_type": "code",
   "execution_count": 10,
   "id": "28fe78d9",
   "metadata": {},
   "outputs": [],
   "source": [
    "df_den=df_den.rename(columns={'people_vaccinated':'den_partial',\n",
    "                              'people_fully_vaccinated':'den_full',})"
   ]
  },
  {
   "cell_type": "code",
   "execution_count": 11,
   "id": "d5680bc1",
   "metadata": {},
   "outputs": [
    {
     "data": {
      "text/html": [
       "<div>\n",
       "<style scoped>\n",
       "    .dataframe tbody tr th:only-of-type {\n",
       "        vertical-align: middle;\n",
       "    }\n",
       "\n",
       "    .dataframe tbody tr th {\n",
       "        vertical-align: top;\n",
       "    }\n",
       "\n",
       "    .dataframe thead th {\n",
       "        text-align: right;\n",
       "    }\n",
       "</style>\n",
       "<table border=\"1\" class=\"dataframe\">\n",
       "  <thead>\n",
       "    <tr style=\"text-align: right;\">\n",
       "      <th></th>\n",
       "      <th>date</th>\n",
       "      <th>den_partial</th>\n",
       "      <th>den_full</th>\n",
       "    </tr>\n",
       "  </thead>\n",
       "  <tbody>\n",
       "    <tr>\n",
       "      <th>0</th>\n",
       "      <td>2020-12-08</td>\n",
       "      <td>1</td>\n",
       "      <td>0</td>\n",
       "    </tr>\n",
       "    <tr>\n",
       "      <th>1</th>\n",
       "      <td>2020-12-11</td>\n",
       "      <td>2</td>\n",
       "      <td>0</td>\n",
       "    </tr>\n",
       "    <tr>\n",
       "      <th>2</th>\n",
       "      <td>2020-12-16</td>\n",
       "      <td>3</td>\n",
       "      <td>0</td>\n",
       "    </tr>\n",
       "    <tr>\n",
       "      <th>3</th>\n",
       "      <td>2020-12-17</td>\n",
       "      <td>4</td>\n",
       "      <td>0</td>\n",
       "    </tr>\n",
       "    <tr>\n",
       "      <th>4</th>\n",
       "      <td>2020-12-18</td>\n",
       "      <td>6</td>\n",
       "      <td>0</td>\n",
       "    </tr>\n",
       "  </tbody>\n",
       "</table>\n",
       "</div>"
      ],
      "text/plain": [
       "         date  den_partial  den_full\n",
       "0  2020-12-08            1         0\n",
       "1  2020-12-11            2         0\n",
       "2  2020-12-16            3         0\n",
       "3  2020-12-17            4         0\n",
       "4  2020-12-18            6         0"
      ]
     },
     "execution_count": 11,
     "metadata": {},
     "output_type": "execute_result"
    }
   ],
   "source": [
    "df_den.head()"
   ]
  },
  {
   "cell_type": "code",
   "execution_count": 12,
   "id": "1e0a9343",
   "metadata": {},
   "outputs": [
    {
     "data": {
      "text/plain": [
       "556"
      ]
     },
     "execution_count": 12,
     "metadata": {},
     "output_type": "execute_result"
    }
   ],
   "source": [
    "len(df_den)"
   ]
  },
  {
   "cell_type": "code",
   "execution_count": 13,
   "id": "43b3931d",
   "metadata": {},
   "outputs": [
    {
     "data": {
      "text/plain": [
       "'2020-12-08'"
      ]
     },
     "execution_count": 13,
     "metadata": {},
     "output_type": "execute_result"
    }
   ],
   "source": [
    "df_den.date[0]"
   ]
  },
  {
   "cell_type": "markdown",
   "id": "c36741ae",
   "metadata": {},
   "source": [
    "# Italy"
   ]
  },
  {
   "cell_type": "code",
   "execution_count": 14,
   "id": "f42d382e",
   "metadata": {},
   "outputs": [
    {
     "data": {
      "text/html": [
       "<div>\n",
       "<style scoped>\n",
       "    .dataframe tbody tr th:only-of-type {\n",
       "        vertical-align: middle;\n",
       "    }\n",
       "\n",
       "    .dataframe tbody tr th {\n",
       "        vertical-align: top;\n",
       "    }\n",
       "\n",
       "    .dataframe thead th {\n",
       "        text-align: right;\n",
       "    }\n",
       "</style>\n",
       "<table border=\"1\" class=\"dataframe\">\n",
       "  <thead>\n",
       "    <tr style=\"text-align: right;\">\n",
       "      <th></th>\n",
       "      <th>location</th>\n",
       "      <th>date</th>\n",
       "      <th>vaccine</th>\n",
       "      <th>source_url</th>\n",
       "      <th>total_vaccinations</th>\n",
       "      <th>people_vaccinated</th>\n",
       "      <th>people_fully_vaccinated</th>\n",
       "      <th>total_boosters</th>\n",
       "    </tr>\n",
       "  </thead>\n",
       "  <tbody>\n",
       "    <tr>\n",
       "      <th>0</th>\n",
       "      <td>Italy</td>\n",
       "      <td>2020-12-27</td>\n",
       "      <td>Moderna, Pfizer/BioNTech</td>\n",
       "      <td>https://raw.githubusercontent.com/italia/covid...</td>\n",
       "      <td>7349</td>\n",
       "      <td>7349</td>\n",
       "      <td>0</td>\n",
       "      <td>0</td>\n",
       "    </tr>\n",
       "    <tr>\n",
       "      <th>1</th>\n",
       "      <td>Italy</td>\n",
       "      <td>2020-12-28</td>\n",
       "      <td>Moderna, Pfizer/BioNTech</td>\n",
       "      <td>https://raw.githubusercontent.com/italia/covid...</td>\n",
       "      <td>8854</td>\n",
       "      <td>8854</td>\n",
       "      <td>0</td>\n",
       "      <td>0</td>\n",
       "    </tr>\n",
       "    <tr>\n",
       "      <th>2</th>\n",
       "      <td>Italy</td>\n",
       "      <td>2020-12-29</td>\n",
       "      <td>Moderna, Pfizer/BioNTech</td>\n",
       "      <td>https://raw.githubusercontent.com/italia/covid...</td>\n",
       "      <td>9953</td>\n",
       "      <td>9953</td>\n",
       "      <td>0</td>\n",
       "      <td>0</td>\n",
       "    </tr>\n",
       "    <tr>\n",
       "      <th>3</th>\n",
       "      <td>Italy</td>\n",
       "      <td>2020-12-30</td>\n",
       "      <td>Moderna, Pfizer/BioNTech</td>\n",
       "      <td>https://raw.githubusercontent.com/italia/covid...</td>\n",
       "      <td>14840</td>\n",
       "      <td>14840</td>\n",
       "      <td>0</td>\n",
       "      <td>0</td>\n",
       "    </tr>\n",
       "    <tr>\n",
       "      <th>4</th>\n",
       "      <td>Italy</td>\n",
       "      <td>2020-12-31</td>\n",
       "      <td>Moderna, Pfizer/BioNTech</td>\n",
       "      <td>https://raw.githubusercontent.com/italia/covid...</td>\n",
       "      <td>40791</td>\n",
       "      <td>40791</td>\n",
       "      <td>0</td>\n",
       "      <td>0</td>\n",
       "    </tr>\n",
       "  </tbody>\n",
       "</table>\n",
       "</div>"
      ],
      "text/plain": [
       "  location        date                   vaccine  \\\n",
       "0    Italy  2020-12-27  Moderna, Pfizer/BioNTech   \n",
       "1    Italy  2020-12-28  Moderna, Pfizer/BioNTech   \n",
       "2    Italy  2020-12-29  Moderna, Pfizer/BioNTech   \n",
       "3    Italy  2020-12-30  Moderna, Pfizer/BioNTech   \n",
       "4    Italy  2020-12-31  Moderna, Pfizer/BioNTech   \n",
       "\n",
       "                                          source_url  total_vaccinations  \\\n",
       "0  https://raw.githubusercontent.com/italia/covid...                7349   \n",
       "1  https://raw.githubusercontent.com/italia/covid...                8854   \n",
       "2  https://raw.githubusercontent.com/italia/covid...                9953   \n",
       "3  https://raw.githubusercontent.com/italia/covid...               14840   \n",
       "4  https://raw.githubusercontent.com/italia/covid...               40791   \n",
       "\n",
       "   people_vaccinated  people_fully_vaccinated  total_boosters  \n",
       "0               7349                        0               0  \n",
       "1               8854                        0               0  \n",
       "2               9953                        0               0  \n",
       "3              14840                        0               0  \n",
       "4              40791                        0               0  "
      ]
     },
     "execution_count": 14,
     "metadata": {},
     "output_type": "execute_result"
    }
   ],
   "source": [
    "df_ita=pd.read_csv('../data/raw/covid-19-data/public/data/vaccinations/country_data/Italy.csv',sep=',')\n",
    "df_ita.head()"
   ]
  },
  {
   "cell_type": "code",
   "execution_count": 15,
   "id": "4754d42c",
   "metadata": {},
   "outputs": [],
   "source": [
    "for each in to_delete:\n",
    "    del df_ita[each]"
   ]
  },
  {
   "cell_type": "code",
   "execution_count": 16,
   "id": "815ea938",
   "metadata": {},
   "outputs": [
    {
     "data": {
      "text/html": [
       "<div>\n",
       "<style scoped>\n",
       "    .dataframe tbody tr th:only-of-type {\n",
       "        vertical-align: middle;\n",
       "    }\n",
       "\n",
       "    .dataframe tbody tr th {\n",
       "        vertical-align: top;\n",
       "    }\n",
       "\n",
       "    .dataframe thead th {\n",
       "        text-align: right;\n",
       "    }\n",
       "</style>\n",
       "<table border=\"1\" class=\"dataframe\">\n",
       "  <thead>\n",
       "    <tr style=\"text-align: right;\">\n",
       "      <th></th>\n",
       "      <th>date</th>\n",
       "      <th>people_vaccinated</th>\n",
       "      <th>people_fully_vaccinated</th>\n",
       "    </tr>\n",
       "  </thead>\n",
       "  <tbody>\n",
       "    <tr>\n",
       "      <th>0</th>\n",
       "      <td>2020-12-27</td>\n",
       "      <td>7349</td>\n",
       "      <td>0</td>\n",
       "    </tr>\n",
       "    <tr>\n",
       "      <th>1</th>\n",
       "      <td>2020-12-28</td>\n",
       "      <td>8854</td>\n",
       "      <td>0</td>\n",
       "    </tr>\n",
       "    <tr>\n",
       "      <th>2</th>\n",
       "      <td>2020-12-29</td>\n",
       "      <td>9953</td>\n",
       "      <td>0</td>\n",
       "    </tr>\n",
       "    <tr>\n",
       "      <th>3</th>\n",
       "      <td>2020-12-30</td>\n",
       "      <td>14840</td>\n",
       "      <td>0</td>\n",
       "    </tr>\n",
       "    <tr>\n",
       "      <th>4</th>\n",
       "      <td>2020-12-31</td>\n",
       "      <td>40791</td>\n",
       "      <td>0</td>\n",
       "    </tr>\n",
       "  </tbody>\n",
       "</table>\n",
       "</div>"
      ],
      "text/plain": [
       "         date  people_vaccinated  people_fully_vaccinated\n",
       "0  2020-12-27               7349                        0\n",
       "1  2020-12-28               8854                        0\n",
       "2  2020-12-29               9953                        0\n",
       "3  2020-12-30              14840                        0\n",
       "4  2020-12-31              40791                        0"
      ]
     },
     "execution_count": 16,
     "metadata": {},
     "output_type": "execute_result"
    }
   ],
   "source": [
    "df_ita.head()"
   ]
  },
  {
   "cell_type": "code",
   "execution_count": 17,
   "id": "b86514bf",
   "metadata": {},
   "outputs": [],
   "source": [
    "df_ita=df_ita.rename(columns={'people_vaccinated':'ita_partial',\n",
    "                              'people_fully_vaccinated':'ita_full',})"
   ]
  },
  {
   "cell_type": "code",
   "execution_count": 18,
   "id": "aec94f5b",
   "metadata": {},
   "outputs": [
    {
     "data": {
      "text/html": [
       "<div>\n",
       "<style scoped>\n",
       "    .dataframe tbody tr th:only-of-type {\n",
       "        vertical-align: middle;\n",
       "    }\n",
       "\n",
       "    .dataframe tbody tr th {\n",
       "        vertical-align: top;\n",
       "    }\n",
       "\n",
       "    .dataframe thead th {\n",
       "        text-align: right;\n",
       "    }\n",
       "</style>\n",
       "<table border=\"1\" class=\"dataframe\">\n",
       "  <thead>\n",
       "    <tr style=\"text-align: right;\">\n",
       "      <th></th>\n",
       "      <th>date</th>\n",
       "      <th>ita_partial</th>\n",
       "      <th>ita_full</th>\n",
       "    </tr>\n",
       "  </thead>\n",
       "  <tbody>\n",
       "    <tr>\n",
       "      <th>0</th>\n",
       "      <td>2020-12-27</td>\n",
       "      <td>7349</td>\n",
       "      <td>0</td>\n",
       "    </tr>\n",
       "    <tr>\n",
       "      <th>1</th>\n",
       "      <td>2020-12-28</td>\n",
       "      <td>8854</td>\n",
       "      <td>0</td>\n",
       "    </tr>\n",
       "    <tr>\n",
       "      <th>2</th>\n",
       "      <td>2020-12-29</td>\n",
       "      <td>9953</td>\n",
       "      <td>0</td>\n",
       "    </tr>\n",
       "    <tr>\n",
       "      <th>3</th>\n",
       "      <td>2020-12-30</td>\n",
       "      <td>14840</td>\n",
       "      <td>0</td>\n",
       "    </tr>\n",
       "    <tr>\n",
       "      <th>4</th>\n",
       "      <td>2020-12-31</td>\n",
       "      <td>40791</td>\n",
       "      <td>0</td>\n",
       "    </tr>\n",
       "  </tbody>\n",
       "</table>\n",
       "</div>"
      ],
      "text/plain": [
       "         date  ita_partial  ita_full\n",
       "0  2020-12-27         7349         0\n",
       "1  2020-12-28         8854         0\n",
       "2  2020-12-29         9953         0\n",
       "3  2020-12-30        14840         0\n",
       "4  2020-12-31        40791         0"
      ]
     },
     "execution_count": 18,
     "metadata": {},
     "output_type": "execute_result"
    }
   ],
   "source": [
    "df_ita.head()"
   ]
  },
  {
   "cell_type": "code",
   "execution_count": 19,
   "id": "bcea8535",
   "metadata": {},
   "outputs": [
    {
     "data": {
      "text/plain": [
       "547"
      ]
     },
     "execution_count": 19,
     "metadata": {},
     "output_type": "execute_result"
    }
   ],
   "source": [
    "len(df_ita)"
   ]
  },
  {
   "cell_type": "code",
   "execution_count": 20,
   "id": "77d3a9f5",
   "metadata": {},
   "outputs": [
    {
     "data": {
      "text/plain": [
       "'2020-12-27'"
      ]
     },
     "execution_count": 20,
     "metadata": {},
     "output_type": "execute_result"
    }
   ],
   "source": [
    "df_ita.date[0]"
   ]
  },
  {
   "cell_type": "markdown",
   "id": "88e2e50d",
   "metadata": {},
   "source": [
    "# Merge"
   ]
  },
  {
   "cell_type": "code",
   "execution_count": 21,
   "id": "0eccd4bc",
   "metadata": {},
   "outputs": [],
   "source": [
    "df_merged=pd.merge(pd.merge(df_ger,df_den,on='date'),df_ita,on='date')    # merge dataframes, dont need to worry about\n",
    "                                                                          # overlapping of data (same dates), as the\n",
    "                                                                          # merge function does this per default (how='inner')"
   ]
  },
  {
   "cell_type": "code",
   "execution_count": 22,
   "id": "b33e9f87",
   "metadata": {
    "scrolled": true
   },
   "outputs": [
    {
     "data": {
      "text/html": [
       "<div>\n",
       "<style scoped>\n",
       "    .dataframe tbody tr th:only-of-type {\n",
       "        vertical-align: middle;\n",
       "    }\n",
       "\n",
       "    .dataframe tbody tr th {\n",
       "        vertical-align: top;\n",
       "    }\n",
       "\n",
       "    .dataframe thead th {\n",
       "        text-align: right;\n",
       "    }\n",
       "</style>\n",
       "<table border=\"1\" class=\"dataframe\">\n",
       "  <thead>\n",
       "    <tr style=\"text-align: right;\">\n",
       "      <th></th>\n",
       "      <th>date</th>\n",
       "      <th>ger_partial</th>\n",
       "      <th>ger_full</th>\n",
       "      <th>den_partial</th>\n",
       "      <th>den_full</th>\n",
       "      <th>ita_partial</th>\n",
       "      <th>ita_full</th>\n",
       "    </tr>\n",
       "  </thead>\n",
       "  <tbody>\n",
       "    <tr>\n",
       "      <th>0</th>\n",
       "      <td>2020-12-27</td>\n",
       "      <td>24421</td>\n",
       "      <td>0</td>\n",
       "      <td>5644</td>\n",
       "      <td>0</td>\n",
       "      <td>7349</td>\n",
       "      <td>0</td>\n",
       "    </tr>\n",
       "    <tr>\n",
       "      <th>1</th>\n",
       "      <td>2020-12-28</td>\n",
       "      <td>42428</td>\n",
       "      <td>0</td>\n",
       "      <td>7529</td>\n",
       "      <td>0</td>\n",
       "      <td>8854</td>\n",
       "      <td>0</td>\n",
       "    </tr>\n",
       "    <tr>\n",
       "      <th>2</th>\n",
       "      <td>2020-12-29</td>\n",
       "      <td>92483</td>\n",
       "      <td>0</td>\n",
       "      <td>15509</td>\n",
       "      <td>1</td>\n",
       "      <td>9953</td>\n",
       "      <td>0</td>\n",
       "    </tr>\n",
       "    <tr>\n",
       "      <th>3</th>\n",
       "      <td>2020-12-30</td>\n",
       "      <td>156549</td>\n",
       "      <td>0</td>\n",
       "      <td>25777</td>\n",
       "      <td>1</td>\n",
       "      <td>14840</td>\n",
       "      <td>0</td>\n",
       "    </tr>\n",
       "    <tr>\n",
       "      <th>4</th>\n",
       "      <td>2020-12-31</td>\n",
       "      <td>206488</td>\n",
       "      <td>0</td>\n",
       "      <td>31078</td>\n",
       "      <td>1</td>\n",
       "      <td>40791</td>\n",
       "      <td>0</td>\n",
       "    </tr>\n",
       "    <tr>\n",
       "      <th>...</th>\n",
       "      <td>...</td>\n",
       "      <td>...</td>\n",
       "      <td>...</td>\n",
       "      <td>...</td>\n",
       "      <td>...</td>\n",
       "      <td>...</td>\n",
       "      <td>...</td>\n",
       "    </tr>\n",
       "    <tr>\n",
       "      <th>539</th>\n",
       "      <td>2022-06-19</td>\n",
       "      <td>64686546</td>\n",
       "      <td>63326257</td>\n",
       "      <td>4832599</td>\n",
       "      <td>4795745</td>\n",
       "      <td>50797580</td>\n",
       "      <td>47943865</td>\n",
       "    </tr>\n",
       "    <tr>\n",
       "      <th>540</th>\n",
       "      <td>2022-06-20</td>\n",
       "      <td>64687421</td>\n",
       "      <td>63327589</td>\n",
       "      <td>4832631</td>\n",
       "      <td>4795865</td>\n",
       "      <td>50797990</td>\n",
       "      <td>47944307</td>\n",
       "    </tr>\n",
       "    <tr>\n",
       "      <th>541</th>\n",
       "      <td>2022-06-21</td>\n",
       "      <td>64688699</td>\n",
       "      <td>63329929</td>\n",
       "      <td>4832658</td>\n",
       "      <td>4795932</td>\n",
       "      <td>50798497</td>\n",
       "      <td>47944834</td>\n",
       "    </tr>\n",
       "    <tr>\n",
       "      <th>542</th>\n",
       "      <td>2022-06-22</td>\n",
       "      <td>64689923</td>\n",
       "      <td>63332094</td>\n",
       "      <td>4832713</td>\n",
       "      <td>4796096</td>\n",
       "      <td>50799014</td>\n",
       "      <td>47945400</td>\n",
       "    </tr>\n",
       "    <tr>\n",
       "      <th>543</th>\n",
       "      <td>2022-06-23</td>\n",
       "      <td>64691359</td>\n",
       "      <td>63334565</td>\n",
       "      <td>4832749</td>\n",
       "      <td>4796193</td>\n",
       "      <td>50799460</td>\n",
       "      <td>47945862</td>\n",
       "    </tr>\n",
       "  </tbody>\n",
       "</table>\n",
       "<p>544 rows × 7 columns</p>\n",
       "</div>"
      ],
      "text/plain": [
       "           date  ger_partial  ger_full  den_partial  den_full  ita_partial  \\\n",
       "0    2020-12-27        24421         0         5644         0         7349   \n",
       "1    2020-12-28        42428         0         7529         0         8854   \n",
       "2    2020-12-29        92483         0        15509         1         9953   \n",
       "3    2020-12-30       156549         0        25777         1        14840   \n",
       "4    2020-12-31       206488         0        31078         1        40791   \n",
       "..          ...          ...       ...          ...       ...          ...   \n",
       "539  2022-06-19     64686546  63326257      4832599   4795745     50797580   \n",
       "540  2022-06-20     64687421  63327589      4832631   4795865     50797990   \n",
       "541  2022-06-21     64688699  63329929      4832658   4795932     50798497   \n",
       "542  2022-06-22     64689923  63332094      4832713   4796096     50799014   \n",
       "543  2022-06-23     64691359  63334565      4832749   4796193     50799460   \n",
       "\n",
       "     ita_full  \n",
       "0           0  \n",
       "1           0  \n",
       "2           0  \n",
       "3           0  \n",
       "4           0  \n",
       "..        ...  \n",
       "539  47943865  \n",
       "540  47944307  \n",
       "541  47944834  \n",
       "542  47945400  \n",
       "543  47945862  \n",
       "\n",
       "[544 rows x 7 columns]"
      ]
     },
     "execution_count": 22,
     "metadata": {},
     "output_type": "execute_result"
    }
   ],
   "source": [
    "df_merged                                                                 # check merge of only overlapping dates"
   ]
  },
  {
   "cell_type": "code",
   "execution_count": 23,
   "id": "374b446c",
   "metadata": {},
   "outputs": [],
   "source": [
    "df_merged['ger_partial']=(df_merged['ger_partial']/84317461)*100            # source for the population numbers https://www.worldometers.info/\n",
    "df_merged['ger_full']=(df_merged['ger_full']/84317461)*100                  # date of access: 27.06.2022\n",
    "df_merged['den_partial']=(df_merged['den_partial']/5832897)*100             # calculate relative values\n",
    "df_merged['den_full']=(df_merged['den_full']/5832897)*100\n",
    "df_merged['ita_partial']=(df_merged['ita_partial']/60286640)*100\n",
    "df_merged['ita_full']=(df_merged['ita_full']/60286640)*100"
   ]
  },
  {
   "cell_type": "code",
   "execution_count": 24,
   "id": "a3a36a11",
   "metadata": {},
   "outputs": [
    {
     "data": {
      "text/html": [
       "<div>\n",
       "<style scoped>\n",
       "    .dataframe tbody tr th:only-of-type {\n",
       "        vertical-align: middle;\n",
       "    }\n",
       "\n",
       "    .dataframe tbody tr th {\n",
       "        vertical-align: top;\n",
       "    }\n",
       "\n",
       "    .dataframe thead th {\n",
       "        text-align: right;\n",
       "    }\n",
       "</style>\n",
       "<table border=\"1\" class=\"dataframe\">\n",
       "  <thead>\n",
       "    <tr style=\"text-align: right;\">\n",
       "      <th></th>\n",
       "      <th>date</th>\n",
       "      <th>ger_partial</th>\n",
       "      <th>ger_full</th>\n",
       "      <th>den_partial</th>\n",
       "      <th>den_full</th>\n",
       "      <th>ita_partial</th>\n",
       "      <th>ita_full</th>\n",
       "    </tr>\n",
       "  </thead>\n",
       "  <tbody>\n",
       "    <tr>\n",
       "      <th>539</th>\n",
       "      <td>2022-06-19</td>\n",
       "      <td>76.717853</td>\n",
       "      <td>75.104559</td>\n",
       "      <td>82.850752</td>\n",
       "      <td>82.218921</td>\n",
       "      <td>84.260095</td>\n",
       "      <td>79.526517</td>\n",
       "    </tr>\n",
       "    <tr>\n",
       "      <th>540</th>\n",
       "      <td>2022-06-20</td>\n",
       "      <td>76.718891</td>\n",
       "      <td>75.106138</td>\n",
       "      <td>82.851300</td>\n",
       "      <td>82.220979</td>\n",
       "      <td>84.260775</td>\n",
       "      <td>79.527250</td>\n",
       "    </tr>\n",
       "    <tr>\n",
       "      <th>541</th>\n",
       "      <td>2022-06-21</td>\n",
       "      <td>76.720407</td>\n",
       "      <td>75.108914</td>\n",
       "      <td>82.851763</td>\n",
       "      <td>82.222127</td>\n",
       "      <td>84.261616</td>\n",
       "      <td>79.528124</td>\n",
       "    </tr>\n",
       "    <tr>\n",
       "      <th>542</th>\n",
       "      <td>2022-06-22</td>\n",
       "      <td>76.721858</td>\n",
       "      <td>75.111481</td>\n",
       "      <td>82.852706</td>\n",
       "      <td>82.224939</td>\n",
       "      <td>84.262473</td>\n",
       "      <td>79.529063</td>\n",
       "    </tr>\n",
       "    <tr>\n",
       "      <th>543</th>\n",
       "      <td>2022-06-23</td>\n",
       "      <td>76.723561</td>\n",
       "      <td>75.114412</td>\n",
       "      <td>82.853323</td>\n",
       "      <td>82.226602</td>\n",
       "      <td>84.263213</td>\n",
       "      <td>79.529829</td>\n",
       "    </tr>\n",
       "  </tbody>\n",
       "</table>\n",
       "</div>"
      ],
      "text/plain": [
       "           date  ger_partial   ger_full  den_partial   den_full  ita_partial  \\\n",
       "539  2022-06-19    76.717853  75.104559    82.850752  82.218921    84.260095   \n",
       "540  2022-06-20    76.718891  75.106138    82.851300  82.220979    84.260775   \n",
       "541  2022-06-21    76.720407  75.108914    82.851763  82.222127    84.261616   \n",
       "542  2022-06-22    76.721858  75.111481    82.852706  82.224939    84.262473   \n",
       "543  2022-06-23    76.723561  75.114412    82.853323  82.226602    84.263213   \n",
       "\n",
       "      ita_full  \n",
       "539  79.526517  \n",
       "540  79.527250  \n",
       "541  79.528124  \n",
       "542  79.529063  \n",
       "543  79.529829  "
      ]
     },
     "execution_count": 24,
     "metadata": {},
     "output_type": "execute_result"
    }
   ],
   "source": [
    "df_merged.tail()                                                            # check calculated values"
   ]
  },
  {
   "cell_type": "code",
   "execution_count": 25,
   "id": "0e905af4",
   "metadata": {
    "scrolled": false
   },
   "outputs": [
    {
     "data": {
      "text/plain": [
       "Text(0.5, 0, 'Date')"
      ]
     },
     "execution_count": 25,
     "metadata": {},
     "output_type": "execute_result"
    },
    {
     "data": {
      "text/plain": [
       "<Figure size 1152x648 with 0 Axes>"
      ]
     },
     "metadata": {},
     "output_type": "display_data"
    },
    {
     "data": {
      "image/png": "[encoded data removed]",
      "text/plain": [
       "<Figure size 1152x648 with 1 Axes>"
      ]
     },
     "metadata": {},
     "output_type": "display_data"
    }
   ],
   "source": [
    "plt.figure();                                                                 # plot\n",
    "ax=df_merged.set_index('date').plot()\n",
    "plt.ylim(0, 100)\n",
    "plt.ylabel('Vaccination percentage')\n",
    "plt.xlabel('Date')"
   ]
  },
  {
   "cell_type": "code",
   "execution_count": 26,
   "id": "754d20bb",
   "metadata": {},
   "outputs": [
    {
     "data": {
      "text/html": [
       "<div>\n",
       "<style scoped>\n",
       "    .dataframe tbody tr th:only-of-type {\n",
       "        vertical-align: middle;\n",
       "    }\n",
       "\n",
       "    .dataframe tbody tr th {\n",
       "        vertical-align: top;\n",
       "    }\n",
       "\n",
       "    .dataframe thead th {\n",
       "        text-align: right;\n",
       "    }\n",
       "</style>\n",
       "<table border=\"1\" class=\"dataframe\">\n",
       "  <thead>\n",
       "    <tr style=\"text-align: right;\">\n",
       "      <th></th>\n",
       "      <th>date</th>\n",
       "      <th>ger_full</th>\n",
       "      <th>den_full</th>\n",
       "      <th>ita_full</th>\n",
       "    </tr>\n",
       "  </thead>\n",
       "  <tbody>\n",
       "    <tr>\n",
       "      <th>0</th>\n",
       "      <td>2020-12-27</td>\n",
       "      <td>0.0</td>\n",
       "      <td>0.000000</td>\n",
       "      <td>0.0</td>\n",
       "    </tr>\n",
       "    <tr>\n",
       "      <th>1</th>\n",
       "      <td>2020-12-28</td>\n",
       "      <td>0.0</td>\n",
       "      <td>0.000000</td>\n",
       "      <td>0.0</td>\n",
       "    </tr>\n",
       "    <tr>\n",
       "      <th>2</th>\n",
       "      <td>2020-12-29</td>\n",
       "      <td>0.0</td>\n",
       "      <td>0.000017</td>\n",
       "      <td>0.0</td>\n",
       "    </tr>\n",
       "    <tr>\n",
       "      <th>3</th>\n",
       "      <td>2020-12-30</td>\n",
       "      <td>0.0</td>\n",
       "      <td>0.000017</td>\n",
       "      <td>0.0</td>\n",
       "    </tr>\n",
       "    <tr>\n",
       "      <th>4</th>\n",
       "      <td>2020-12-31</td>\n",
       "      <td>0.0</td>\n",
       "      <td>0.000017</td>\n",
       "      <td>0.0</td>\n",
       "    </tr>\n",
       "  </tbody>\n",
       "</table>\n",
       "</div>"
      ],
      "text/plain": [
       "         date  ger_full  den_full  ita_full\n",
       "0  2020-12-27       0.0  0.000000       0.0\n",
       "1  2020-12-28       0.0  0.000000       0.0\n",
       "2  2020-12-29       0.0  0.000017       0.0\n",
       "3  2020-12-30       0.0  0.000017       0.0\n",
       "4  2020-12-31       0.0  0.000017       0.0"
      ]
     },
     "execution_count": 26,
     "metadata": {},
     "output_type": "execute_result"
    }
   ],
   "source": [
    "delete_partial=['ger_partial','den_partial','ita_partial']                #remove partial vaccinations \n",
    "for each in delete_partial:\n",
    "    del df_merged[each]\n",
    "df_merged.head()"
   ]
  },
  {
   "cell_type": "code",
   "execution_count": 27,
   "id": "e6a99ac8",
   "metadata": {},
   "outputs": [
    {
     "data": {
      "text/plain": [
       "Text(0.5, 0, 'Date')"
      ]
     },
     "execution_count": 27,
     "metadata": {},
     "output_type": "execute_result"
    },
    {
     "data": {
      "text/plain": [
       "<Figure size 1152x648 with 0 Axes>"
      ]
     },
     "metadata": {},
     "output_type": "display_data"
    },
    {
     "data": {
      "image/png": "[encoded data removed]",
      "text/plain": [
       "<Figure size 1152x648 with 1 Axes>"
      ]
     },
     "metadata": {},
     "output_type": "display_data"
    }
   ],
   "source": [
    "plt.figure();                                                              #plot without partial vaccinations\n",
    "ax=df_merged.set_index('date').plot()\n",
    "plt.ylim(0, 100)\n",
    "plt.ylabel('Vaccination percentage')\n",
    "plt.xlabel('Date')"
   ]
  },
  {
   "cell_type": "code",
   "execution_count": null,
   "id": "8b4a611e",
   "metadata": {},
   "outputs": [],
   "source": []
  }
 ],
 "metadata": {
  "kernelspec": {
   "display_name": "Python 3 (ipykernel)",
   "language": "python",
   "name": "python3"
  },
  "language_info": {
   "codemirror_mode": {
    "name": "ipython",
    "version": 3
   },
   "file_extension": ".py",
   "mimetype": "text/x-python",
   "name": "python",
   "nbconvert_exporter": "python",
   "pygments_lexer": "ipython3",
   "version": "3.9.12"
  }
 },
 "nbformat": 4,
 "nbformat_minor": 5
}
